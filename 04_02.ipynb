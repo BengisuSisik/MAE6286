{
 "cells": [
  {
   "cell_type": "code",
   "execution_count": 1,
   "metadata": {},
   "outputs": [],
   "source": [
    "#Implicit scheme\n",
    "import numpy\n",
    "from matplotlib import pyplot\n",
    "%matplotlib inline"
   ]
  },
  {
   "cell_type": "code",
   "execution_count": 2,
   "metadata": {},
   "outputs": [],
   "source": [
    "L = 1.0\n",
    "nx = 51\n",
    "dx = L/ (nx-1)\n",
    "alpha = 1.22e-3\n",
    "q = 0.0\n",
    "\n",
    "x = numpy.linspace(0.0, L, num=nx)\n",
    "\n",
    "T0 = numpy.zeros_like(x)\n",
    "T0[0] = 100.0"
   ]
  },
  {
   "cell_type": "code",
   "execution_count": 3,
   "metadata": {},
   "outputs": [],
   "source": [
    "#implicit scheme you solve linear system each time step\n",
    "from scipy import linalg"
   ]
  },
  {
   "cell_type": "code",
   "execution_count": 4,
   "metadata": {},
   "outputs": [],
   "source": [
    "def lhs_operator(nx, sigma):\n",
    "    D = numpy.diag((2 + 1/sigma)*numpy.ones(nx-2))\n",
    "    D[-1, -1] = 1 + 1/sigma\n",
    "    U = numpy.diag(-1.0*numpy.ones(nx-3), k=1) #Upper diagonal\n",
    "    L = numpy.diag(-1.0*numpy.ones(nx-3), k =-1) #Diagonal i bir alta kaydiriyor\n",
    "    A = D + U + L\n",
    "    return A"
   ]
  },
  {
   "cell_type": "code",
   "execution_count": 5,
   "metadata": {},
   "outputs": [
    {
     "name": "stdout",
     "output_type": "stream",
     "text": [
      "[[ 3. -1.  0.  0.  0.]\n",
      " [-1.  3. -1.  0.  0.]\n",
      " [ 0. -1.  3. -1.  0.]\n",
      " [ 0.  0. -1.  3. -1.]\n",
      " [ 0.  0.  0. -1.  2.]]\n"
     ]
    }
   ],
   "source": [
    "#Test\n",
    "print(lhs_operator(7, 1.0))"
   ]
  },
  {
   "cell_type": "code",
   "execution_count": 6,
   "metadata": {},
   "outputs": [],
   "source": [
    "def rhs_vector(T, sigma, q, dx):\n",
    "    b = T[1 : -1] / sigma\n",
    "    b[0] += T[0]\n",
    "    b[-1] += q*dx\n",
    "    return b"
   ]
  },
  {
   "cell_type": "code",
   "execution_count": 7,
   "metadata": {},
   "outputs": [
    {
     "name": "stdout",
     "output_type": "stream",
     "text": [
      "[[0. 2. 0. 0. 0.]\n",
      " [0. 0. 2. 0. 0.]\n",
      " [0. 0. 0. 2. 0.]\n",
      " [0. 0. 0. 0. 2.]\n",
      " [0. 0. 0. 0. 0.]]\n"
     ]
    }
   ],
   "source": [
    "DL = numpy.diag(2.0*numpy.ones(4), k = 1) #k=1 diyince bir kaydirdi\n",
    "print(DL)"
   ]
  },
  {
   "cell_type": "code",
   "execution_count": 8,
   "metadata": {},
   "outputs": [],
   "source": [
    "#backward in time central in space\n",
    "def btcs(T0, nt, dt, dx, alpha, q):\n",
    "    sigma = alpha* dt/ dx**2\n",
    "    A = lhs_operator(nx, sigma)\n",
    "    T = T0.copy()\n",
    "    for n in range(nt):\n",
    "        b = rhs_vector(T, sigma, q, dx)\n",
    "        T[1 : -1] = linalg.solve(A, b)\n",
    "        T[-1] = T[-2] + q*dx\n",
    "    return T"
   ]
  },
  {
   "cell_type": "code",
   "execution_count": 9,
   "metadata": {},
   "outputs": [
    {
     "data": {
      "text/plain": [
       "[<matplotlib.lines.Line2D at 0x7fdfff8e64e0>]"
      ]
     },
     "execution_count": 9,
     "metadata": {},
     "output_type": "execute_result"
    },
    {
     "data": {
      "image/png": "[encoded data removed]",
      "text/plain": [
       "<Figure size 432x288 with 1 Axes>"
      ]
     },
     "metadata": {},
     "output_type": "display_data"
    }
   ],
   "source": [
    "nt = 100\n",
    "sigma = 0.5\n",
    "dt = sigma* dx**2 / alpha\n",
    "T = btcs(T0, nt, dt, dx, alpha, q)\n",
    "pyplot.plot(x, T)"
   ]
  },
  {
   "cell_type": "code",
   "execution_count": 10,
   "metadata": {},
   "outputs": [
    {
     "data": {
      "text/plain": [
       "[<matplotlib.lines.Line2D at 0x7fdfc31a4320>]"
      ]
     },
     "execution_count": 10,
     "metadata": {},
     "output_type": "execute_result"
    },
    {
     "data": {
      "image/png": "[encoded data removed]",
      "text/plain": [
       "<Figure size 432x288 with 1 Axes>"
      ]
     },
     "metadata": {},
     "output_type": "display_data"
    }
   ],
   "source": [
    "nt = 1000\n",
    "sigma = 0.5\n",
    "dt = sigma* dx**2 / alpha\n",
    "T = btcs(T0, nt, dt, dx, alpha, q)\n",
    "pyplot.plot(x, T)"
   ]
  },
  {
   "cell_type": "code",
   "execution_count": null,
   "metadata": {},
   "outputs": [],
   "source": []
  }
 ],
 "metadata": {
  "kernelspec": {
   "display_name": "Python 3",
   "language": "python",
   "name": "python3"
  },
  "language_info": {
   "codemirror_mode": {
    "name": "ipython",
    "version": 3
   },
   "file_extension": ".py",
   "mimetype": "text/x-python",
   "name": "python",
   "nbconvert_exporter": "python",
   "pygments_lexer": "ipython3",
   "version": "3.6.2"
  }
 },
 "nbformat": 4,
 "nbformat_minor": 2
}
