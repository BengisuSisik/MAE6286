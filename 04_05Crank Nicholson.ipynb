{
 "cells": [
  {
   "cell_type": "code",
   "execution_count": 21,
   "metadata": {},
   "outputs": [],
   "source": [
    "import numpy #use for arrays\n",
    "from scipy import linalg #for solving linear system\n",
    "from matplotlib import pyplot\n",
    "%matplotlib inline"
   ]
  },
  {
   "cell_type": "code",
   "execution_count": 22,
   "metadata": {},
   "outputs": [],
   "source": [
    "L = 1.0\n",
    "nx = 51\n",
    "dx = L / (nx-1)\n",
    "x = numpy.linspace(0.0, L, num=nx)\n",
    "\n",
    "alpha = 1.22e-3\n",
    "\n",
    "T0 = numpy.zeros(nx)\n",
    "T0[0] = 100.0"
   ]
  },
  {
   "cell_type": "code",
   "execution_count": 106,
   "metadata": {},
   "outputs": [],
   "source": [
    "#This code will be more generic forward, backward, Crank Nicholson kullanacagiz, boundary condition lara sonradan karar verecegiz\n",
    "def solve_1d(T0, nt, dt, dx, alpha, cI, cE, bc):\n",
    "    T = T0.copy() #making deep copy of the initial array\n",
    "    N = len(T0) - 2 #number of variables inside my domain\n",
    "    A, b_bc = lhs_operator(N, dt, dx, alpha, cE) #left hand side operator\n",
    "    for n in range(nt):\n",
    "        b = rhs_vector(T, dt, dx, alpha, cE)  #Every time step I redefine my right hand side vector\n",
    "        T[1:-1] = linalg.solve(A,b-b_bc) #right hand side i bir tarafa topladi\n",
    "        update_boundaries(T, dx, bc)\n",
    "    return T\n",
    "        "
   ]
  },
  {
   "cell_type": "code",
   "execution_count": 107,
   "metadata": {},
   "outputs": [],
   "source": [
    "def lhs_operator(N, dt, dx, alpha, cI, bc): #Matrix A\n",
    "    I = numpy.identity(N) #diagonal matrix with only 1 on the diagonal\n",
    "    L, b_bc = laplacian_1d(N, dx, bc) #Laplacian operator\n",
    "    A = I / dt - cI * alpha * L #I an L are matrices so A is also going to be matrix    \n",
    "    return A, b_bc"
   ]
  },
  {
   "cell_type": "code",
   "execution_count": 116,
   "metadata": {},
   "outputs": [],
   "source": [
    "def laplacian_1d(N, dx,bc):\n",
    "    D = numpy.diag(-2.0 / dx**2 * numpy.ones(N)) #inputs should be 1d array\n",
    "    L = numpy.diag(1.0 / dx**2 * numpy.ones(N-1), k=-1) #I want to put them in the lower diagonal\n",
    "    U = numpy.diag(1.0 / dx**2 * numpy.ones(N-1), k =+1)#Upper diagonal\n",
    "    b_bc = numpy.zeros(N)\n",
    "    A = D + U + L\n",
    "    #Left boundary #correction for the left boundary and right boundary so we will use if conditions for that\n",
    "    if bc['left']['type'] == 'Dirichlet': #type and value hakkinda bilgi verecegim NEW INFO\n",
    "        b_bc[0] = bc['left']['value'] / dx**2\n",
    "    elif bc['left']['type'] == 'Neumann':\n",
    "        A[0, 0] = - 1.0 / dx**2\n",
    "        b_bc[0] = bc['left']['value'] / dx\n",
    "    #Right boundary\n",
    "    if bc['right']['type'] == 'Dirichlet': \n",
    "        b_bc[-1] = bc['right']['value'] / dx**2\n",
    "    elif bc['right']['type'] == 'Neumann':\n",
    "        A[-1, -1] = - 1.0 / dx**2\n",
    "        b_bc[-1] = bc['right']['value'] / dx\n",
    "    \n",
    "    \n",
    "    return A, b_bc"
   ]
  },
  {
   "cell_type": "code",
   "execution_count": 117,
   "metadata": {},
   "outputs": [
    {
     "name": "stdout",
     "output_type": "stream",
     "text": [
      "Dirichlet\n",
      "100.0\n",
      "Dirichlet\n",
      "Dirichlet\n"
     ]
    }
   ],
   "source": [
    "#dictionary contains item and value\n",
    "#we want to know type of boundary condition and the value of the boundary\n",
    "bc_left = {'type' : 'Dirichlet','value': 100.0} #what we want to impose on left boundary 100.0\n",
    "bc_right = {'type' : 'Neumann','value': 0.0} \n",
    "print(bc_left['type'])\n",
    "print(bc_left['value'])\n",
    "bc = {'left': bc_left, 'right': bc_right}\n",
    "print(bc_left['type'])\n",
    "print(bc['left']['type'])"
   ]
  },
  {
   "cell_type": "code",
   "execution_count": 118,
   "metadata": {},
   "outputs": [],
   "source": [
    "def rhs_vector(T, dt, dx, alpha, cE, bc):\n",
    "    b = T[1:-1] / dt + cE*alpha* (T[:-2] -2*T[1:-1] +T[2:]) / dx**2  #HATA OLABILIR\n",
    "    return b"
   ]
  },
  {
   "cell_type": "code",
   "execution_count": 119,
   "metadata": {},
   "outputs": [],
   "source": [
    "def update_boundaries(T, dx, bc):\n",
    "    T[0] = get_boundary_value(T[1], dx, bc['left'])\n",
    "    T[-1] = get_boundary_value(T[-2], dx, bc['right'])\n",
    "    return"
   ]
  },
  {
   "cell_type": "code",
   "execution_count": 120,
   "metadata": {},
   "outputs": [],
   "source": [
    "def get_boundary_value(T_neighbor, dx, bc): #I need access to Ti\n",
    "    if bc['type'] == 'Dirichlet':\n",
    "        return bc['value']\n",
    "    elif bc['type'] == 'Neumann':\n",
    "        return T_neighbor + bc['value']*dx\n",
    "    else:\n",
    "        raise ValueError('Only Dirichlet and Neumann are supported')\n",
    "    return\n",
    "    "
   ]
  },
  {
   "cell_type": "code",
   "execution_count": 121,
   "metadata": {},
   "outputs": [
    {
     "data": {
      "text/plain": [
       "101.0"
      ]
     },
     "execution_count": 121,
     "metadata": {},
     "output_type": "execute_result"
    }
   ],
   "source": [
    "Tb = get_boundary_value(100.0, 1.0, {'type': 'Dirichlet', 'value': 101.0})\n",
    "Tb"
   ]
  },
  {
   "cell_type": "code",
   "execution_count": 122,
   "metadata": {},
   "outputs": [
    {
     "name": "stdout",
     "output_type": "stream",
     "text": [
      "[1. 1. 1.]\n",
      "[3. 1. 1.]\n"
     ]
    }
   ],
   "source": [
    "#Fake example to show modification in place (deep copy yapmaktan ve memory overload etmekten kurtariyor)\n",
    "def func(a):\n",
    "    a[0] += 2.0\n",
    "    return\n",
    "a = numpy.ones(3)\n",
    "print(a)\n",
    "func(a)\n",
    "print(a)"
   ]
  },
  {
   "cell_type": "code",
   "execution_count": null,
   "metadata": {},
   "outputs": [],
   "source": []
  },
  {
   "cell_type": "code",
   "execution_count": 123,
   "metadata": {},
   "outputs": [
    {
     "ename": "TypeError",
     "evalue": "lhs_operator() missing 1 required positional argument: 'bc'",
     "output_type": "error",
     "traceback": [
      "\u001b[0;31m---------------------------------------------------------------------------\u001b[0m",
      "\u001b[0;31mTypeError\u001b[0m                                 Traceback (most recent call last)",
      "\u001b[0;32m<ipython-input-123-fa7be3521a96>\u001b[0m in \u001b[0;36m<module>\u001b[0;34m()\u001b[0m\n\u001b[1;32m      4\u001b[0m \u001b[0mnt\u001b[0m \u001b[0;34m=\u001b[0m \u001b[0;36m100\u001b[0m\u001b[0;34m\u001b[0m\u001b[0m\n\u001b[1;32m      5\u001b[0m \u001b[0;34m\u001b[0m\u001b[0m\n\u001b[0;32m----> 6\u001b[0;31m \u001b[0mT\u001b[0m \u001b[0;34m=\u001b[0m \u001b[0msolve_1d\u001b[0m\u001b[0;34m(\u001b[0m\u001b[0mT0\u001b[0m\u001b[0;34m,\u001b[0m \u001b[0mnt\u001b[0m\u001b[0;34m,\u001b[0m \u001b[0mdt\u001b[0m\u001b[0;34m,\u001b[0m \u001b[0mdx\u001b[0m\u001b[0;34m,\u001b[0m \u001b[0malpha\u001b[0m\u001b[0;34m,\u001b[0m \u001b[0;36m0.5\u001b[0m\u001b[0;34m,\u001b[0m \u001b[0;36m0.5\u001b[0m\u001b[0;34m,\u001b[0m \u001b[0mbc\u001b[0m\u001b[0;34m)\u001b[0m\u001b[0;34m\u001b[0m\u001b[0m\n\u001b[0m",
      "\u001b[0;32m<ipython-input-106-67e41d737636>\u001b[0m in \u001b[0;36msolve_1d\u001b[0;34m(T0, nt, dt, dx, alpha, cI, cE, bc)\u001b[0m\n\u001b[1;32m      3\u001b[0m     \u001b[0mT\u001b[0m \u001b[0;34m=\u001b[0m \u001b[0mT0\u001b[0m\u001b[0;34m.\u001b[0m\u001b[0mcopy\u001b[0m\u001b[0;34m(\u001b[0m\u001b[0;34m)\u001b[0m \u001b[0;31m#making deep copy of the initial array\u001b[0m\u001b[0;34m\u001b[0m\u001b[0m\n\u001b[1;32m      4\u001b[0m     \u001b[0mN\u001b[0m \u001b[0;34m=\u001b[0m \u001b[0mlen\u001b[0m\u001b[0;34m(\u001b[0m\u001b[0mT0\u001b[0m\u001b[0;34m)\u001b[0m \u001b[0;34m-\u001b[0m \u001b[0;36m2\u001b[0m \u001b[0;31m#number of variables inside my domain\u001b[0m\u001b[0;34m\u001b[0m\u001b[0m\n\u001b[0;32m----> 5\u001b[0;31m     \u001b[0mA\u001b[0m\u001b[0;34m,\u001b[0m \u001b[0mb_bc\u001b[0m \u001b[0;34m=\u001b[0m \u001b[0mlhs_operator\u001b[0m\u001b[0;34m(\u001b[0m\u001b[0mN\u001b[0m\u001b[0;34m,\u001b[0m \u001b[0mdt\u001b[0m\u001b[0;34m,\u001b[0m \u001b[0mdx\u001b[0m\u001b[0;34m,\u001b[0m \u001b[0malpha\u001b[0m\u001b[0;34m,\u001b[0m \u001b[0mcE\u001b[0m\u001b[0;34m)\u001b[0m \u001b[0;31m#left hand side operator\u001b[0m\u001b[0;34m\u001b[0m\u001b[0m\n\u001b[0m\u001b[1;32m      6\u001b[0m     \u001b[0;32mfor\u001b[0m \u001b[0mn\u001b[0m \u001b[0;32min\u001b[0m \u001b[0mrange\u001b[0m\u001b[0;34m(\u001b[0m\u001b[0mnt\u001b[0m\u001b[0;34m)\u001b[0m\u001b[0;34m:\u001b[0m\u001b[0;34m\u001b[0m\u001b[0m\n\u001b[1;32m      7\u001b[0m         \u001b[0mb\u001b[0m \u001b[0;34m=\u001b[0m \u001b[0mrhs_vector\u001b[0m\u001b[0;34m(\u001b[0m\u001b[0mT\u001b[0m\u001b[0;34m,\u001b[0m \u001b[0mdt\u001b[0m\u001b[0;34m,\u001b[0m \u001b[0mdx\u001b[0m\u001b[0;34m,\u001b[0m \u001b[0malpha\u001b[0m\u001b[0;34m,\u001b[0m \u001b[0mcE\u001b[0m\u001b[0;34m)\u001b[0m  \u001b[0;31m#Every time step I redefine my right hand side vector\u001b[0m\u001b[0;34m\u001b[0m\u001b[0m\n",
      "\u001b[0;31mTypeError\u001b[0m: lhs_operator() missing 1 required positional argument: 'bc'"
     ]
    }
   ],
   "source": [
    "#We will define dt based on sigma\n",
    "sigma = 0.5\n",
    "dt = sigma*dx**2/alpha\n",
    "nt = 100\n",
    "\n",
    "T = solve_1d(T0, nt, dt, dx, alpha, 0.5, 0.5, bc)"
   ]
  },
  {
   "cell_type": "code",
   "execution_count": 87,
   "metadata": {},
   "outputs": [
    {
     "data": {
      "text/plain": [
       "<function matplotlib.pyplot.plot>"
      ]
     },
     "execution_count": 87,
     "metadata": {},
     "output_type": "execute_result"
    }
   ],
   "source": [
    "pyplot.plot"
   ]
  },
  {
   "cell_type": "code",
   "execution_count": null,
   "metadata": {},
   "outputs": [],
   "source": []
  }
 ],
 "metadata": {
  "kernelspec": {
   "display_name": "Python 3",
   "language": "python",
   "name": "python3"
  },
  "language_info": {
   "codemirror_mode": {
    "name": "ipython",
    "version": 3
   },
   "file_extension": ".py",
   "mimetype": "text/x-python",
   "name": "python",
   "nbconvert_exporter": "python",
   "pygments_lexer": "ipython3",
   "version": "3.6.2"
  }
 },
 "nbformat": 4,
 "nbformat_minor": 2
}
