{
 "cells": [
  {
   "cell_type": "code",
   "execution_count": 2,
   "metadata": {},
   "outputs": [],
   "source": [
    "import numpy\n",
    "from matplotlib import pyplot\n",
    "%matplotlib inline\n",
    "from scipy import linalg"
   ]
  },
  {
   "cell_type": "code",
   "execution_count": 12,
   "metadata": {},
   "outputs": [],
   "source": [
    "#Set parameters\n",
    "Lx = 0.01\n",
    "Ly = 0.01\n",
    "nx = 21\n",
    "ny = 21\n",
    "dx = Lx / (nx-1)\n",
    "dy = Ly / (ny-1)\n",
    "alpha = 1e-4\n",
    "\n",
    "#Save memory space icin 2D array kullanmadim\n",
    "x = numpy.linspace(0.0, Lx, num=nx)\n",
    "y = numpy.linspace(0.0, Ly, num=ny)\n",
    "\n",
    "#Initial conditions\n",
    "T0 = 20.0 * numpy.ones((ny, nx))\n",
    "T0[0, :] = 100.0 # bottom\n",
    "T0[:, 0] = 100.0"
   ]
  },
  {
   "cell_type": "code",
   "execution_count": 13,
   "metadata": {},
   "outputs": [],
   "source": [
    "#We will start with time integration function\n",
    "#delta is the grid spacing which is equal in both directions\n",
    "def btcs(T0, nt, dt, delta, alpha, Tb):\n",
    "    ny, nx = T0.shape\n",
    "    M, N = nx-2, ny-2\n",
    "    sigma = alpha* dt/ delta**2\n",
    "    A = lhs_operator(M, N, sigma)\n",
    "    T = T0[1:-1, 1:-1].flatten()\n",
    "    #I want to monitor the temperature\n",
    "    I, J = int(M/2), int(N/2)\n",
    "    for n in range(nt):\n",
    "        b = rhs_vector(T, M, N, sigma, Tb)\n",
    "        T = linalg.solve(A, b)\n",
    "        if T[J * M + I] >= 70.0:\n",
    "            break\n",
    "        print('Time step {}; temperature at center is {} C'.format(n, T[J*M+1]))\n",
    "        return map_1d_to_2d(T, nx, ny, Tb)"
   ]
  },
  {
   "cell_type": "code",
   "execution_count": 14,
   "metadata": {},
   "outputs": [],
   "source": [
    "#Implement function to map 1D array to a 2D one\n",
    "def map_1d_to_2d(T1, nx, ny, Tb):\n",
    "    T = numpy.zeros((ny, nx)) #T is a 2D array\n",
    "    T[1 : -1, 1:-1] = T1.reshape((ny-2, nx-2))\n",
    "    T[:, 0] = Tb   #Left boundary\n",
    "    T[0, :] = Tb    \n",
    "    T[:, -1] = T[:, -2] #Right boundary Neumann condition where flux density is zero\n",
    "    T[-1, :] = T[-2, :]\n",
    "    \n",
    "    return T"
   ]
  },
  {
   "cell_type": "code",
   "execution_count": 15,
   "metadata": {},
   "outputs": [],
   "source": [
    "def rhs_vector(T, M, N, sigma, Tb):\n",
    "    #Where Tb is boundary value\n",
    "    b = T / sigma\n",
    "    for j in range(N):\n",
    "        for i in range(M):\n",
    "            I = j * M + i\n",
    "            if i == 0: #means I am on the left boundary having Dirichlet conditions\n",
    "                b[I] += Tb\n",
    "            if j == 0: #means I am bottom boundary\n",
    "                b[I] += Tb\n",
    "    return b"
   ]
  },
  {
   "cell_type": "code",
   "execution_count": 16,
   "metadata": {},
   "outputs": [],
   "source": [
    "#1 more function to assemble\n",
    "def lhs_operator(M, N, sigma):\n",
    "    A = numpy.zeros((M * N, M*N)) #M*N is the total number of interior points\n",
    "    for j in range(N):\n",
    "        for i in range(M):\n",
    "            I = j*M +i #Upper case I is the index of row I want to assemble in my matrix\n",
    "            IS = I - M\n",
    "            IW = I - 1\n",
    "            IE = I +1\n",
    "            IN = I + M #so the coefficients of the matrix are dependent on where you are inside the domain\n",
    "            \n",
    "            if i ==0 and j ==0: #i am located next to the left boundary, if I am inside and i have no boundary neighbours\n",
    "                #just focus on matrix A\n",
    "                #So I will have 4 non zeros instead of 5\n",
    "                A[I, I] = 1.0\n",
    "                A[I, IE] = -1.0\n",
    "                A[I, IN] = -1.0\n",
    "            elif i ==0 and j == N-1:\n",
    "                A[I, I] = 1.0 / sigma + 3.0\n",
    "                A[I, IS] = -1.0\n",
    "                A[I, IE] = -1.0\n",
    "            elif i == M-1 and j == 0:\n",
    "                A[I, I] = 1.0 / sigma + 3.0\n",
    "                A[I, IW] = -1.0\n",
    "                A[I, IN] = -1.0\n",
    "            elif i == M-1 and j == N-1:\n",
    "                A[I, I] = 1.0 / sigma + 2.0\n",
    "                A[I, IS] = -1.0\n",
    "                A[I, IW] = -1.0\n",
    "            \n",
    "                \n",
    "            elif i==0:\n",
    "                A[I, I] = 1.0/ sigma + 4.0\n",
    "                A[I, IS] = -1.0\n",
    "                A[I, IE] = -1.0\n",
    "                A[I, IN] = -1.0\n",
    "            elif j==0:\n",
    "                A[I, I] = 1.0/ sigma + 4.0\n",
    "                A[I, IW] = -1.0\n",
    "                A[I, IE] = -1.0\n",
    "                A[I, IN] = -1.0\n",
    "            elif i==M-1: #Right boundary\n",
    "                A[I, I] = 1.0/sigma +3.0\n",
    "                A[I, IS] = -1.0\n",
    "                A[I, IW] = -1.0\n",
    "                A[I, IN] = -1.0\n",
    "            elif j == N-1:\n",
    "                A[I, I] = 1.0/sigma +3.0\n",
    "                A[I, IS] = -1.0\n",
    "                A[I, IW] = -1.0\n",
    "                A[I, IE] = -1.0\n",
    "            #Top boundary with neumann conditions\n",
    "            else:\n",
    "                A[I, I]  = 1.0 / sigma + 4.0\n",
    "                A[I, IS] = -1.0\n",
    "                A[I, IW] = -1.0\n",
    "                A[I, IN] = -1.0\n",
    "                A[I, IE] = -1.0\n",
    "    return A"
   ]
  },
  {
   "cell_type": "code",
   "execution_count": 17,
   "metadata": {},
   "outputs": [],
   "source": [
    "sigma = 0.5\n",
    "dt = sigma / (alpha* (1/dx**2+ 1/dy**2) )\n",
    "nt = 500 #time step"
   ]
  },
  {
   "cell_type": "code",
   "execution_count": 18,
   "metadata": {},
   "outputs": [
    {
     "name": "stdout",
     "output_type": "stream",
     "text": [
      "Time step 0; temperature at center is 22.35499100669444 C\n"
     ]
    }
   ],
   "source": [
    "T = btcs(T0, nt, dt, dx, alpha, 100.0)"
   ]
  },
  {
   "cell_type": "code",
   "execution_count": 19,
   "metadata": {},
   "outputs": [
    {
     "data": {
      "image/png": "[encoded data removed]",
      "text/plain": [
       "<Figure size 576x360 with 2 Axes>"
      ]
     },
     "metadata": {},
     "output_type": "display_data"
    }
   ],
   "source": [
    "pyplot.figure(figsize=(8.0,5.0))\n",
    "pyplot.xlabel('x [m]')\n",
    "pyplot.ylabel('y [m]')\n",
    "contf = pyplot.contourf(x, y, T, levels = numpy.linspace(20.0, 100.0,num=51))\n",
    "cbar = pyplot.colorbar(contf)\n",
    "cbar.set_label('Temperature [C]')"
   ]
  },
  {
   "cell_type": "code",
   "execution_count": null,
   "metadata": {},
   "outputs": [],
   "source": []
  }
 ],
 "metadata": {
  "kernelspec": {
   "display_name": "Python 3",
   "language": "python",
   "name": "python3"
  },
  "language_info": {
   "codemirror_mode": {
    "name": "ipython",
    "version": 3
   },
   "file_extension": ".py",
   "mimetype": "text/x-python",
   "name": "python",
   "nbconvert_exporter": "python",
   "pygments_lexer": "ipython3",
   "version": "3.6.2"
  }
 },
 "nbformat": 4,
 "nbformat_minor": 2
}
